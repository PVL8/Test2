{
 "cells": [
  {
   "cell_type": "code",
   "execution_count": null,
   "id": "62fde188",
   "metadata": {},
   "outputs": [],
   "source": [
    "!pip install selenium"
   ]
  },
  {
   "cell_type": "code",
   "execution_count": null,
   "id": "c48b7050",
   "metadata": {},
   "outputs": [],
   "source": [
    "from selenium import webdriver\n",
    "from selenium.webdriver.common.keys import Keys\n",
    "import requests\n",
    "import time\n",
    "from fake_useragent import UserAgent\n",
    "from random import choice"
   ]
  },
  {
   "cell_type": "code",
   "execution_count": null,
   "id": "ac00aaf2",
   "metadata": {},
   "outputs": [],
   "source": [
    "url = \"https://www.ralphlauren.nl/en/men/clothing/hoodies-sweatshirts/10204?webcat=men%7Cclothing%7Cmen-clothing-hoodies-sweatshirts\"\n",
    "ua = UserAgent()\n",
    "\n",
    "fake_ua = {'user-agent': ua.random}\n",
    "ip = '203.30.188.215'\n",
    "proxy = {\n",
    "    'http': f'http://{ip}',\n",
    "    #'https': f'http://{ip}'\n",
    "}\n",
    "response = requests.get(url=url, proxies=proxy, headers=fake_ua)\n",
    "print(response)"
   ]
  },
  {
   "cell_type": "code",
   "execution_count": null,
   "id": "2082f79e",
   "metadata": {},
   "outputs": [],
   "source": [
    "import time\n",
    "from selenium import webdriver\n",
    "from selenium.webdriver.common.by import By\n",
    "\n",
    "proxy = ['172.67.180.55:80']\n",
    "\n",
    "chrome_options = webdriver.ChromeOptions()\n",
    "chrome_options.add_argument('--proxy-server=%s' % proxy)\n",
    "\n",
    "with webdriver.Chrome(options=chrome_options) as browser:\n",
    "    browser.get(\"https://www.ralphlauren.nl/en/men/clothing/hoodies-sweatshirts/10204?webcat=men%7Cclothing%7Cmen-clothing-hoodies-sweatshirts\")\n",
    "    time.sleep(5)\n",
    "    button = browser.find_element(By.ID, \"onetrust-accept-btn-handler\")\n",
    "    time.sleep(2)\n",
    "    button.click()\n",
    "    time.sleep(15)\n",
    "    button = browser.find_element(By.LINK_TEXT, \"No Thanks\")\n",
    "    time.sleep(2)\n",
    "    button.click()\n",
    "    time.sleep(5)"
   ]
  }
 ],
 "metadata": {
  "kernelspec": {
   "display_name": "Python 3",
   "language": "python",
   "name": "python3"
  },
  "language_info": {
   "codemirror_mode": {
    "name": "ipython",
    "version": 3
   },
   "file_extension": ".py",
   "mimetype": "text/x-python",
   "name": "python",
   "nbconvert_exporter": "python",
   "pygments_lexer": "ipython3",
   "version": "3.8.8"
  }
 },
 "nbformat": 4,
 "nbformat_minor": 5
}
